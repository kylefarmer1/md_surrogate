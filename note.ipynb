{
 "cells": [
  {
   "cell_type": "code",
   "execution_count": null,
   "metadata": {},
   "outputs": [],
   "source": []
  },
  {
   "cell_type": "markdown",
   "metadata": {},
   "source": [
    "### Issues encountered\n",
    "\n",
    "The Python version should be in 3.10 (changed in 3.11 will cause tensorflow.python wierd issue).\n",
    "\n",
    "Some version of tensorflow (installed from conda and pip) need to edit `from tensorflow.python import context` as `from tensorflow.python.eager import context`.\n",
    "\n",
    "The `poster.ipynb` could not be run from the fresh. Change the location of save model prior than `load_weights`.\n",
    "\n",
    "Require `ffmpeg`. Could be installed via [official website](https://www.ffmpeg.org/download.html)"
   ]
  },
  {
   "cell_type": "markdown",
   "metadata": {},
   "source": [
    "## Changed\n",
    "\n",
    "- 116, define velocities twice. The first one is redundant.\n",
    "- "
   ]
  },
  {
   "cell_type": "markdown",
   "metadata": {},
   "source": [
    "## Question\n",
    "\n",
    "- There is no rotation in the quartet system.\n",
    "- Could be bidirectional or not, default is unidirectional.\n",
    "- Global setting for each system. (no globals for now)"
   ]
  },
  {
   "cell_type": "markdown",
   "metadata": {},
   "source": [
    "## Test Utility\n",
    "\n",
    "- gen_data"
   ]
  }
 ],
 "metadata": {
  "language_info": {
   "name": "python"
  }
 },
 "nbformat": 4,
 "nbformat_minor": 2
}
